{
  "nbformat": 4,
  "nbformat_minor": 0,
  "metadata": {
    "colab": {
      "name": "mpode.ipynb",
      "provenance": [],
      "collapsed_sections": [],
      "authorship_tag": "ABX9TyMalUJpP+MYJUZHb8KjW1F7",
      "include_colab_link": true
    },
    "kernelspec": {
      "name": "python3",
      "display_name": "Python 3"
    },
    "language_info": {
      "name": "python"
    }
  },
  "cells": [
    {
      "cell_type": "markdown",
      "metadata": {
        "id": "view-in-github",
        "colab_type": "text"
      },
      "source": [
        "<a href=\"https://colab.research.google.com/github/JulianDPastrana/JulianDPastrana.github.io/blob/main/mpode.ipynb\" target=\"_parent\"><img src=\"https://colab.research.google.com/assets/colab-badge.svg\" alt=\"Open In Colab\"/></a>"
      ]
    },
    {
      "cell_type": "code",
      "execution_count": null,
      "metadata": {
        "id": "wukpHloSv_8W"
      },
      "outputs": [],
      "source": [
        ""
      ]
    },
    {
      "cell_type": "markdown",
      "source": [
        "\\begin{equation}\n",
        "    \\begin{aligned}\n",
        "        \\min_{g_i} \\quad & \\sum_{i} c_i g_i\\\\\n",
        "        \\textrm{s.t.} \\quad & \\sum_{i} g_i = D_t\\\\\n",
        "                            & g_{i min} \\leq g_i \\leq g_{i max}\\\\\n",
        "    \\end{aligned}\n",
        "\\end{equation}\n",
        "\n",
        "donde:\n",
        "\n",
        "* $g_i$: genración i-ésima planta en MWh\n",
        "* $c_i$: costo de operación i-ésima planta en \\$/MWh\n",
        "* $D_t$: demanda total diaria en MWh\n",
        "* $g_{i max}$: máxima capacidad instalada en la i-ésima planta\n",
        "* $g_{i min}$: generación mínima en la i-ésima planta"
      ],
      "metadata": {
        "id": "cm-W-DYugKsj"
      }
    }
  ]
}